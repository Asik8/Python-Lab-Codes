{
 "cells": [
  {
   "cell_type": "code",
   "execution_count": 20,
   "metadata": {},
   "outputs": [
    {
     "name": "stdout",
     "output_type": "stream",
     "text": [
      "ana"
     ]
    }
   ],
   "source": [
    "# a = 'Bananana'\n",
    "# c=0\n",
    "# for i in a:\n",
    "#     print(i,end='')\n",
    "#     if(i == 'a'):\n",
    "#         c= c+1\n",
    "#         if(c==3):\n",
    "#             break\n",
    "\n",
    "\n",
    "# Another Way\n",
    "a = 'Bananana'\n",
    "\n",
    "# print(a[0:6])    \n",
    "# print(a[2:6])    \n",
    "# print(a[5:8])  \n",
    "\n",
    "\n",
    "# Another Way:\n",
    "# intro = 'Hello! i\\'m Asik'\n",
    "\n",
    "# print(intro[:-3]) \n",
    "# print(intro[-3:])\n",
    "\n",
    "# Another Way:\n",
    "\n",
    "str = 'Banana'\n",
    "l =len(str)\n",
    "\n",
    "# for i in range (2,5):\n",
    "    # print(str[i],end='') \n",
    "          \n",
    "for i in range (3,l):\n",
    "    print(str[i],end='')       \n",
    "        \n",
    "    "
   ]
  },
  {
   "cell_type": "code",
   "execution_count": 25,
   "metadata": {},
   "outputs": [
    {
     "name": "stdout",
     "output_type": "stream",
     "text": [
      "['Asik', 'Alamin', 'sadib']\n"
     ]
    }
   ],
   "source": [
    "# Way 1: Works for integer and string both\n",
    "# size = int(input())\n",
    "# my_list=[]\n",
    "\n",
    "# for i in range(size):\n",
    "#     element = input(\"\".format(i+1))\n",
    "#     my_list.append(element)\n",
    "# print(my_list)\n",
    "\n",
    "# Way 2: Works for integer and string both\n",
    "# size = int(input())\n",
    "# my_list=[]\n",
    "\n",
    "# for i in range(size):\n",
    "#     element = input(format(i+1))\n",
    "#     my_list.append(element)\n",
    "# print(my_list)\n",
    "\n",
    "\n",
    "size = int(input())\n",
    "my_list=[]\n",
    "\n",
    "for i in range(size):\n",
    "    element = input(format(i+1))\n",
    "    my_list.append(element)\n",
    "print(my_list[0:3])\n",
    "\n",
    "\n",
    "# Way 3: \n",
    "\n"
   ]
  },
  {
   "cell_type": "code",
   "execution_count": 28,
   "metadata": {},
   "outputs": [
    {
     "name": "stdout",
     "output_type": "stream",
     "text": [
      "Your Ticket Price will be 100.0\n"
     ]
    }
   ],
   "source": [
    "price = 200\n",
    "gender = input(\"Enter Your Gender: \")\n",
    "Position = input(\"Enter Your Position: \")\n",
    "\n",
    "if(gender == 'male' and Position == 'Chatroleague'):\n",
    "    print('Your Ticket Price will be',(70/100)*price)\n",
    "    \n",
    "elif(gender == 'male' and Position == 'Chatrodol'):\n",
    "    print('Your Ticket Price will be',(150/100)*price)\n",
    "    \n",
    "elif(gender == 'female' and Position == 'Chatrodol'):\n",
    "    print('Your Ticket Price will be',(130/100)*price)\n",
    "    \n",
    "elif(gender == 'female' and Position == 'Chatroleague'):\n",
    "    print('Your Ticket Price will be',(50/100)*price)\n",
    "\n",
    "else:\n",
    "    print('Your Ticket Price will be',price)   "
   ]
  },
  {
   "cell_type": "code",
   "execution_count": 30,
   "metadata": {},
   "outputs": [
    {
     "name": "stdout",
     "output_type": "stream",
     "text": [
      "2500\n"
     ]
    }
   ],
   "source": [
    "unit = 400\n",
    "unit = unit -100\n",
    "\n",
    "if(unit == 0 or unit <0):\n",
    "    print(0)\n",
    "elif(unit <=100 and unit>0):\n",
    "    print(unit*5)\n",
    "elif(unit >100):\n",
    "    price = 500+(unit-100)*10\n",
    "    print(price)"
   ]
  },
  {
   "cell_type": "code",
   "execution_count": 38,
   "metadata": {},
   "outputs": [
    {
     "name": "stdout",
     "output_type": "stream",
     "text": [
      "Prime Number\n"
     ]
    }
   ],
   "source": [
    "import math\n",
    "\n",
    "a = int(input())\n",
    "b = int(math.sqrt(a))\n",
    "c=0\n",
    "\n",
    "for i in range(2,b):\n",
    "    if(a % i == 0):\n",
    "        c = c+1\n",
    "        break\n",
    "if(c>0):\n",
    "    print(\"Not a Prime Number\")\n",
    "else:\n",
    "    print('Prime Number')"
   ]
  },
  {
   "cell_type": "code",
   "execution_count": 6,
   "metadata": {},
   "outputs": [
    {
     "name": "stdout",
     "output_type": "stream",
     "text": [
      "asik"
     ]
    }
   ],
   "source": [
    "# 22 February 2024\n",
    "# Stack in Python:\n",
    "stack =[]\n",
    "while True:\n",
    "    a = input()\n",
    "    if(a == 'close'):\n",
    "        break\n",
    "    stack.append(a)\n",
    "\n",
    "length = len(stack)\n",
    "\n",
    "for i in range(length):\n",
    "    print(stack.pop(),end = '')\n",
    "    \n",
    "# It checks if the stack is empt or not\n",
    "is_empty = len(stack) == 0\n",
    "\n",
    "# create a stack and push 5,6,8,101,1000,200 and then pop tp 3 elements. print the stack in every "
   ]
  },
  {
   "cell_type": "code",
   "execution_count": 10,
   "metadata": {},
   "outputs": [
    {
     "name": "stdout",
     "output_type": "stream",
     "text": [
      "[1, 2, 3, 4, 5]\n",
      "[3, 6, 9, 12, 15]\n",
      "[6, 12, 18, 24, 30, 36, 42, 48, 54]\n",
      "[2, 4, 6, 8, 10, 12, 14, 16, 18]\n"
     ]
    }
   ],
   "source": [
    "# List Comperhensions\n",
    "\n",
    "list = [item for item in range(1,6)]\n",
    "print(list)\n",
    "\n",
    "list1 = [item*3 for item in range(1,6)]\n",
    "print(list1)\n",
    "\n",
    "list2 = [item*3 for item in range(1,20) if item % 2 ==0]\n",
    "print(list2)\n",
    "\n",
    "list3 = [item for item in range(1,20) if item % 2 ==0]\n",
    "print(list3)"
   ]
  },
  {
   "cell_type": "code",
   "execution_count": 11,
   "metadata": {},
   "outputs": [
    {
     "name": "stdout",
     "output_type": "stream",
     "text": [
      "49 25 9 81 1089 "
     ]
    }
   ],
   "source": [
    "numbers = [10,7,6,5,4,3,8,9,33]\n",
    "\n",
    "for value in (x**2 for x in numbers if x%2!=0):\n",
    "    print(value, end=' ')"
   ]
  },
  {
   "cell_type": "code",
   "execution_count": 14,
   "metadata": {},
   "outputs": [
    {
     "name": "stdout",
     "output_type": "stream",
     "text": [
      "[[0, 0, 0, 0, 0, 0], [0, 0, 0, 0, 0, 0], [0, 0, 0, 0, 0, 0], [0, 0, 0, 0, 0, 0], [0, 0, 0, 0, 0, 0]]\n",
      "0\n",
      "0 0 0 0 0 0 \n",
      "0 0 0 0 0 0 \n",
      "0 0 0 0 0 0 \n",
      "0 0 0 0 0 0 \n",
      "0 0 0 0 0 0 \n"
     ]
    }
   ],
   "source": [
    "# 2D list in python:\n",
    "\n",
    "rows = int(input('Enter Rows: '))\n",
    "col= int(input('Enter colunms: '))\n",
    "\n",
    "array_2d = [[0 for _ in range(col)] for _ in range(rows)]\n",
    "print(array_2d)\n",
    "print(array_2d[0][0])\n",
    "\n",
    "for i in range(rows):\n",
    "    for j in range(col):\n",
    "        print(array_2d[i][j], end=' ')\n",
    "    print()"
   ]
  },
  {
   "cell_type": "code",
   "execution_count": 16,
   "metadata": {},
   "outputs": [
    {
     "name": "stdout",
     "output_type": "stream",
     "text": [
      "['5', '4', '3', '2', '6']\n",
      "['4', '6', '7', '9', '8']\n",
      "['3', '4', '6', '8', '6']\n",
      "['1', '4', '2', '3', '6']\n",
      "['1', '5', '6', '3', '4']\n"
     ]
    }
   ],
   "source": [
    "n = int(input())\n",
    "\n",
    "grid =[]\n",
    "\n",
    "for _ in range(n):\n",
    "    row = input().split()\n",
    "    grid.append(row)\n",
    "for L in grid:\n",
    "    print(L)"
   ]
  },
  {
   "cell_type": "code",
   "execution_count": 6,
   "metadata": {},
   "outputs": [
    {
     "name": "stdout",
     "output_type": "stream",
     "text": [
      "[4976, 5031, 6030]\n"
     ]
    }
   ],
   "source": [
    "# 28 February:\n",
    "# t = int(input())\n",
    "\n",
    "# for _ in range(t):\n",
    "#     a = input()\n",
    "#     count = 0\n",
    "#     for ch in a:\n",
    "#         if ch == 'T':\n",
    "#             count +=1\n",
    "            \n",
    "#     print(count)\n",
    "\n",
    "s = int(input())\n",
    "l = list(map(int,input().split()))\n",
    "l.sort()\n",
    "print(l)\n"
   ]
  },
  {
   "cell_type": "code",
   "execution_count": 5,
   "metadata": {},
   "outputs": [
    {
     "name": "stdout",
     "output_type": "stream",
     "text": [
      "{4976: 58, 4553: 99}\n",
      "4553 99\n"
     ]
    }
   ],
   "source": [
    "# Dictionary\n",
    "\n",
    "student_info = {}\n",
    "\n",
    "while True:\n",
    "    run = input(\"Want's to continue 'Yes' else 'quit\")\n",
    "    if run == 'quit':\n",
    "        break\n",
    "    student_id = int(input())\n",
    "    student_result = int(input())\n",
    "    student_info[student_id] = student_result\n",
    "\n",
    "print(student_info)\n",
    "\n",
    "task = input(\"Insert 'H' for highest or 'L' for Lowest \")\n",
    "\n",
    "if task == 'H':\n",
    "    max_mark = max(student_info,key = student_info.get)\n",
    "    print (max_mark,end =' ')\n",
    "    print (student_info[max_mark])\n",
    "    \n",
    "elif task == 'L':\n",
    "    min_mark = min(student_info,key = student_info.get)\n",
    "    print (min_mark,end =' ')\n",
    "    print (student_info[min_mark])\n",
    "        \n",
    "    \n",
    "    "
   ]
  },
  {
   "cell_type": "code",
   "execution_count": 16,
   "metadata": {},
   "outputs": [
    {
     "data": {
      "text/plain": [
       "['India', None, 'USA', 'Indoneshia', 'Amazon', 'Africa']"
      ]
     },
     "execution_count": 16,
     "metadata": {},
     "output_type": "execute_result"
    }
   ],
   "source": [
    "def vowel_countries(country):\n",
    "    if country[0] == 'A' or country[0] == 'E' or country[0] == 'I' or country[0] == 'O' or country[0] == 'U' or country[0] == 'a' or country[0] == 'e' or country[0] == 'i' or country[0] == 'o' or country[0] == 'u':\n",
    "        return country\n",
    "\n",
    "\n",
    "country = input().split()\n",
    "# print(country)\n",
    "list(map(vowel_countries,country))"
   ]
  },
  {
   "cell_type": "code",
   "execution_count": 4,
   "metadata": {},
   "outputs": [
    {
     "name": "stdout",
     "output_type": "stream",
     "text": [
      "This Id 1 already exists in the database\n"
     ]
    }
   ],
   "source": [
    "# student maanagment system using dictionary\n",
    "\n",
    "student_info = {}\n",
    "\n",
    "def add_new_student(student_id,name,cgpa):\n",
    "    student_info[student_id] = {'name':name,'CGPA':float(cgpa)}\n",
    "\n",
    "def print_students_data(student_info):\n",
    "    if not student_info:\n",
    "        print('No data Available in your database')\n",
    "        \n",
    "    for student_id, info in student_info.items():\n",
    "        print(\"Student ID:\", student_id)\n",
    "        print(\"Name:\", info['name'])\n",
    "        print(\"CGPA:\", info['CGPA'])\n",
    "        print()\n",
    "\n",
    "def find_student(student_id):\n",
    "    return student_info.get(student_id)\n",
    "\n",
    "while True:\n",
    "    action = input(\"Insert 'q' for quit, 'all' for all stunedt data, 'find' find a student, 'add' to add new student\" )\n",
    "    if action == 'q':\n",
    "        break\n",
    "    elif action == 'all':\n",
    "        print_students_data(student_info)\n",
    "    elif action == \"find\":\n",
    "        student_id = int(input('Enter student id: '))\n",
    "        student = find_student(student_id)\n",
    "        if student:\n",
    "            print(\"Name:\", student['name'])\n",
    "            print(\"CGPA:\", student['cgpa'])\n",
    "        else:\n",
    "            print('Enter a valid ID')\n",
    "            \n",
    "    elif action == 'add':\n",
    "        student_id = int(input('Enter student id: '))\n",
    "        if student_id in student_info:\n",
    "            print(\"This Id {} already exists in the database\".format(student_id))\n",
    "        else:\n",
    "            name = input('Enter Student Name:')\n",
    "            cgpa = input('Enter CGPA:')\n",
    "            add_new_student(student_id,name,cgpa)\n",
    "\n"
   ]
  },
  {
   "cell_type": "code",
   "execution_count": 62,
   "metadata": {},
   "outputs": [
    {
     "name": "stdout",
     "output_type": "stream",
     "text": [
      "{'healthMin': '123health', 'reliefMin': '456relief', 'Foodmin': '789food'}\n",
      "User Login Successful\n",
      "Admin Login Successful\n",
      "Login Failed. Invalid user_name and Password\n"
     ]
    }
   ],
   "source": [
    "# OOP Question Solve\n",
    "# Summer 2021 (1.b)\n",
    "\n",
    "def day_function(ch):\n",
    "    if ch == 'Friday':\n",
    "        return \"Today is Holiday\"\n",
    "    else:\n",
    "        return \"Working day\"\n",
    "\n",
    "l = ['Saturday','Sunday','Tuesday','Thrusday','Friday']\n",
    "l.append('Monday')\n",
    "l.append('Wednesday')\n",
    "# for ch in l:\n",
    "#     print(day_function(ch))\n",
    "    \n",
    "# Summer 2021(2.a)\n",
    "l = ['Asik','Kutub','Ayesha','01623350853']\n",
    "char_count = 0\n",
    "vowel = 0\n",
    "\n",
    "for item in l:\n",
    "    for ch in item:\n",
    "        char_count += 1\n",
    "        if ch == 'A' or ch == 'a' or ch =='E' or ch =='e' or ch == 'I' or ch == 'i' or ch == 'O' or ch == 'o' or ch == 'U' or ch == 'u':\n",
    "            vowel += 1\n",
    "# print('No of Characters: ',char_count)\n",
    "# print('Number of Vowel: ',vowel)\n",
    "\n",
    "# Summer 2021(2.b)\n",
    "# l = list(i for i in range(20,61) if i%2==0 or i%5==0)\n",
    "l =[]\n",
    "for num in range(20,61):\n",
    "    if num % 2==0 or num % 5 ==0:\n",
    "        if num%2 == 0:\n",
    "            num += 5\n",
    "        if num%5 == 0:\n",
    "            num+= 2\n",
    "        l.append(num)\n",
    "# print(l)\n",
    "\n",
    "# Summer 2021(2.c)\n",
    "user_names = ['healthMin', 'reliefMin', 'Foodmin']\n",
    "passwords = ['123health', '456relief', '789food']\n",
    "admin = {'imadmin': '123'}\n",
    "\n",
    "users_dict = dict(zip(user_names, passwords))\n",
    "print(users_dict)\n",
    "\n",
    "def check_validation(user_name,password):\n",
    "    if user_name in admin and admin[user_name] == password:\n",
    "        return \"Admin Login Successful\"\n",
    "    elif user_name in users_dict and users_dict[user_name] == password:\n",
    "        return \"User Login Successful\"\n",
    "    else:\n",
    "        return \"Login Failed. Invalid user_name and Password\"\n",
    "\n",
    "print(check_validation('healthMin','123health'))\n",
    "print(check_validation('imadmin','123'))\n",
    "print(check_validation('reliefMin','123'))\n",
    "\n"
   ]
  },
  {
   "cell_type": "code",
   "execution_count": null,
   "metadata": {},
   "outputs": [],
   "source": []
  },
  {
   "cell_type": "code",
   "execution_count": 21,
   "metadata": {},
   "outputs": [
    {
     "name": "stdout",
     "output_type": "stream",
     "text": [
      "Error: You can not divide 22 by 0\n"
     ]
    }
   ],
   "source": [
    "# Spring 2023\n",
    "# question 3\n",
    "number = 22\n",
    "divider = 0\n",
    "if divider == 0:\n",
    "    print(\"Error: You can not divide 22 by 0\")\n",
    "\n",
    "else:\n",
    "    result = number/divider\n",
    "    print(result)\n",
    "    \n",
    "# question 4\n",
    "\n",
    "\n"
   ]
  },
  {
   "cell_type": "code",
   "execution_count": 57,
   "metadata": {},
   "outputs": [
    {
     "name": "stdout",
     "output_type": "stream",
     "text": [
      "Not poss\n"
     ]
    }
   ],
   "source": [
    "# # d=['a','b','c','d']\n",
    "# d1=[8,2,9,4]\n",
    "# # def sa():\n",
    "# #     n=dict(zip(d,d1))\n",
    "# #     print(n)\n",
    "# # sa()\n",
    "# new_set = set(d1)\n",
    "# print(new_set)\n",
    "\n",
    "a = 100\n",
    "def check(a):\n",
    "    \n",
    "    for i in range(2,a//2):\n",
    "        if a%i == 0:\n",
    "            print('Not Prime')\n",
    "            break\n",
    "    else:\n",
    "        print('Prime')\n",
    "check(a)\n",
    "# i1=[1,2,3,4,5,6,7,8,9]\n",
    "# i2=[1,2,3]\n",
    "# for item in i1:\n",
    "#     if item==5:\n",
    "#         continue\n",
    "#     print(\"break\")\n",
    "#     for item2 in i2:\n",
    "#         print(item,item2)\n",
    "# a=['sa','sasa','asd','df']\n",
    "# a.pop(a.index('asd'))\n",
    "# print(a)\n",
    "# print(ord('A'))\n",
    "a=[1,5]\n",
    "# a=b.copy()\n",
    "l=len(a)\n",
    "l1=len(b)\n",
    "if l<3:\n",
    "    print(\"Not poss\")\n",
    "else:\n",
    "    a.pop(0)\n",
    "    a.pop()\n",
    "    print(a)\n",
    "\n"
   ]
  }
 ],
 "metadata": {
  "kernelspec": {
   "display_name": "Python 3",
   "language": "python",
   "name": "python3"
  },
  "language_info": {
   "codemirror_mode": {
    "name": "ipython",
    "version": 3
   },
   "file_extension": ".py",
   "mimetype": "text/x-python",
   "name": "python",
   "nbconvert_exporter": "python",
   "pygments_lexer": "ipython3",
   "version": "3.12.1"
  }
 },
 "nbformat": 4,
 "nbformat_minor": 2
}
