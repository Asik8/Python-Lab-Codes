{
 "cells": [
  {
   "cell_type": "code",
   "execution_count": 7,
   "metadata": {},
   "outputs": [
    {
     "name": "stdout",
     "output_type": "stream",
     "text": [
      "[2, 3, 6, 6, 5]\n",
      "5\n"
     ]
    }
   ],
   "source": [
    "# Problem:1\n",
    "\n",
    "a = int(input())\n",
    "list = []\n",
    "\n",
    "for i in range(a):\n",
    "    element = int(input(format(i+1)))\n",
    "    list.append(element)\n",
    "\n",
    "list2 = sorted(list,reverse=True)\n",
    "max = list2[0]\n",
    "for i in list2:\n",
    "    if(i!=max):\n",
    "        print(i)\n",
    "        break\n"
   ]
  },
  {
   "cell_type": "code",
   "execution_count": 9,
   "metadata": {},
   "outputs": [
    {
     "name": "stdout",
     "output_type": "stream",
     "text": [
      "150.0\n"
     ]
    }
   ],
   "source": [
    "# Problem:2\n",
    "\n",
    "ticket_price = 300\n",
    "gender = input('Enter Your Gender: ')\n",
    "age = int(input('Enter Your Age: '))\n",
    "\n",
    "if(gender.lower()=='male' and age<60):\n",
    "    price = ticket_price\n",
    "    \n",
    "elif(gender.lower()=='female' and age<60):\n",
    "    price = ticket_price*0.7\n",
    "    \n",
    "elif(gender.lower()=='female' and age>=60):\n",
    "    price = ticket_price*0.5\n",
    "    \n",
    "elif(gender.lower()=='male' and age>=60):\n",
    "    price = ticket_price*0.7\n",
    "\n",
    "print(price)\n",
    "\n",
    "\n"
   ]
  },
  {
   "cell_type": "code",
   "execution_count": 13,
   "metadata": {},
   "outputs": [
    {
     "name": "stdout",
     "output_type": "stream",
     "text": [
      "5 4 3 2 1 \n",
      "4 3 2 1 \n",
      "3 2 1 \n",
      "2 1 \n",
      "1 \n"
     ]
    }
   ],
   "source": [
    "# Problem:3\n",
    "\n",
    "for i in range(5,0,-1):\n",
    "    for j in range(i,0,-1):\n",
    "        print(j,end=' ')\n",
    "    print()\n"
   ]
  },
  {
   "cell_type": "code",
   "execution_count": 21,
   "metadata": {},
   "outputs": [
    {
     "name": "stdout",
     "output_type": "stream",
     "text": [
      "The number is Palindrome.\n"
     ]
    }
   ],
   "source": [
    "# Problem:4\n",
    "\n",
    "def Palindrome():\n",
    "    a = input()\n",
    "    b = a[::-1]\n",
    "\n",
    "    if(a==b):\n",
    "        print('The number is Palindrome.')\n",
    "    else:\n",
    "        print('The number is not Palindrome.')\n",
    "\n",
    "Palindrome()\n"
   ]
  },
  {
   "cell_type": "code",
   "execution_count": 17,
   "metadata": {},
   "outputs": [
    {
     "name": "stdout",
     "output_type": "stream",
     "text": [
      "Gross Salary is:  20200.0\n"
     ]
    }
   ],
   "source": [
    "# Problem:5\n",
    "\n",
    "basic_sarary = int(input())\n",
    "\n",
    "if(basic_sarary>=10000):\n",
    "    hra = basic_sarary*0.2\n",
    "    da = basic_sarary*0.8\n",
    "    gross_salary = basic_sarary+hra+da\n",
    "    print(\"Gross Salary is: \",gross_salary)\n",
    "    \n",
    "elif(basic_sarary>=20000):\n",
    "    salary = 10000\n",
    "    hra = salary*0.2\n",
    "    da = salary*0.8\n",
    "    main_salary = salary+hra+da\n",
    "    basic_sarary -=salary\n",
    "\n",
    "    hra = basic_sarary*0.25\n",
    "    da = basic_sarary*0.9\n",
    "    main_salary += basic_sarary+hra+da\n",
    "    print(\"Gross Salary is: \",main_salary)\n"
   ]
  }
 ],
 "metadata": {
  "kernelspec": {
   "display_name": "Python 3",
   "language": "python",
   "name": "python3"
  },
  "language_info": {
   "codemirror_mode": {
    "name": "ipython",
    "version": 3
   },
   "file_extension": ".py",
   "mimetype": "text/x-python",
   "name": "python",
   "nbconvert_exporter": "python",
   "pygments_lexer": "ipython3",
   "version": "3.12.1"
  }
 },
 "nbformat": 4,
 "nbformat_minor": 2
}
