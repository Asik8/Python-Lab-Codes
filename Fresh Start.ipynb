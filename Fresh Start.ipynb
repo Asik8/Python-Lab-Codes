{
 "cells": [
  {
   "cell_type": "code",
   "execution_count": null,
   "id": "53f4e04c-7fe3-4c04-a7e3-27393a1494c2",
   "metadata": {},
   "outputs": [],
   "source": [
    "# I am checking if this system is making this line a comment or not\n",
    "# Yea this is making this line a comment inside of the code\n",
    "print(\"Hello! This is Asik\")\n",
    "print(\"I am doing My job\")\n",
    "print(\"Hey\",8,100,1000,sep=\"_\",end=\" With New_Line\\n\")\n",
    "print(\"Hey\",8,100,1000,sep=\"~\",end=\" Without New_Line\")\n",
    "print(\"\\n\\\"This skip the syntex error when you want to use diffierent characters inside of your print statement\\\" Hello I'm There\")\n",
    "\n",
    "a=1.200\n",
    "b=300\n",
    "print(\"The solution of\", a, \"+\", b, \"is\",a+b)\n",
    "print(\"The solution of\", a, \"-\", b, \"is\",a-b)\n",
    "print(\"The solution of\", a, \"*\", b, \"is\",a*b)\n",
    "print(\"The solution of\", b, \"/\", a, \"is\",b/a)\n",
    "\n"
   ]
  },
  {
   "cell_type": "code",
   "execution_count": null,
   "id": "b3b1af05-f6e0-4b3c-bfe7-8be5c9b2d6fd",
   "metadata": {},
   "outputs": [],
   "source": [
    "a=input()\n",
    "b=input()\n",
    "\n",
    "print(a+b)\n",
    "print(type(a),type(b))\n",
    "# print(a*b)\n",
    "# print(a/b)\n"
   ]
  },
  {
   "cell_type": "code",
   "execution_count": null,
   "id": "72e1856a",
   "metadata": {},
   "outputs": [],
   "source": [
    "apple = 'I need an apple'\n",
    "Apple = \"I want to have or eat an Apple\"\n",
    "UseCharacters = 'I want to have an \"Apple\"'\n",
    "MultiLine = '''I want to have some meal with you guys\n",
    "But if you are not following me then you are mistaking\n",
    "Now just gor for \"it\".\n",
    "'''\n",
    "print(apple)\n",
    "print(Apple)\n",
    "print(UseCharacters)\n",
    "print(MultiLine)\n",
    "\n",
    "# For loop for printing an string as each letter in one line\n",
    "for characters in Apple:\n",
    "    print(characters)"
   ]
  },
  {
   "cell_type": "code",
   "execution_count": null,
   "id": "38e3669a",
   "metadata": {},
   "outputs": [],
   "source": [
    "fruit = 'Mango'\n",
    "length = len(fruit)\n",
    "print(length)\n",
    "print(\"length\")\n",
    "print(len(fruit))\n",
    "\n",
    "# String Slicing:\n",
    "# 1.Prints first 5 Characters\n",
    "print(fruit[0:5])\n",
    "print(fruit[2:5])# prints from index 2 to 5-1=4\n",
    "print(fruit[:5])\n",
    "\n",
    "# 2.Prints full String\n",
    "print(fruit[0:])\n",
    "print(fruit[:])\n",
    "\n",
    "# 3.Prints Negative Slicing\n",
    "# Short Form and Full Form\n",
    "print(fruit[0:-3])\n",
    "print(fruit[0:len(fruit)-3])\n",
    "print(fruit[-4:-1]) # FUll form \"print(fruit[len(fruit)-4:len(fruit)-1])\""
   ]
  },
  {
   "cell_type": "code",
   "execution_count": null,
   "id": "607328a4",
   "metadata": {},
   "outputs": [],
   "source": [
    "name = \"Motasem\"\n",
    "# print(name.upper())\n",
    "# print(name.lower())\n",
    "\n",
    "name2 = \"_--mYnAmE--__\"\n",
    "# print(name2.upper())\n",
    "# print(name2.lower())\n",
    "# print(name2.rstrip(\"_\")) # only removes mentioned characters from the end of the code \n",
    "\n",
    "name3 = \"!!Motasem!!Motasem\"\n",
    "# print(name3)\n",
    "# print(name3.replace(\"Motasem\",\"Asik\"))\n",
    "# print(name3.count(\"Motasem\"))\n",
    "\n",
    "name4 = \"!!Motasem !!Billah !!Asik!!\"\n",
    "# print(name4.split(\" \")) # it split a string and creates a list by separating the string with space\n",
    "\n",
    "name5 = \"introduction to pYthon\"\n",
    "# print(name5.capitalize()) # it changes the fort word of the string into capital letter and changes others into small letters and fix any kinds errors \n",
    "\n",
    "name6 = \"Welcome to the Console!!!\"\n",
    "# print(len(name6))\n",
    "# print(name6.center(50))\n",
    "# print(len(name6.center(50)))\n",
    "# print(name6.endswith(\"!!!\"))\n",
    "# print(name6.endswith(\"to\",4,10))\n",
    "# print(name6.startswith(\"Welcome\"))\n",
    "\n",
    "name7 = \"He's not doing job with great awarness. So he is dismissed from his job.\"\n",
    "# print(name7.find(\"is\"))\n",
    "# print(name7.find(\"was\")) #if not same word is available in the string\n",
    "# print(name7.index(\"was\")) #it shows a message if string is not found\n",
    "\n",
    "name8 = \"WelcomeToPython\"\n",
    "name9 = \"WelcomeTo.Python\"\n",
    "# print(name8.isalnum()) # it identifies string between A-Z,a-z,0-9 nothing else\n",
    "# print(name9.isalpha()) # There is a character except A-Z,a-z,0-9\n",
    "# print(name8.isalpha(),\"\\n\") # it identifies string between A-Z,a-z nothing else\n",
    "\n",
    "Word = \"i am going home\"\n",
    "word = \"I am going Home\"\n",
    "word1 = \"I AM ASIK\"\n",
    "# print(Word.islower())\n",
    "# print(word.islower())\n",
    "# print(word1.isupper())\n",
    "# print(word1.swapcase()) #changs upper to lower and the opposite\n",
    "\n",
    "wordA = \"I like to eat an Apple\\n\"\n",
    "worda = \"I like to eat an Apple\"\n",
    "# print(wordA.isprintable())\n",
    "# print(worda.isprintable())\n",
    "\n",
    "str1 = \"    \"\n",
    "# print(str1.isspace()) # works or space and tab button\n",
    "str = \"Welcome To The course\"\n",
    "# print(str.istitle())\n",
    "# print(str.title())"
   ]
  },
  {
   "cell_type": "code",
   "execution_count": null,
   "id": "d8a9be93",
   "metadata": {},
   "outputs": [],
   "source": [
    "# If Elif and Else statement using time\n",
    "\n",
    "import time\n",
    "\n",
    "timestamp = time.strftime('%H:%M:%S')\n",
    "print(timestamp)\n",
    "\n",
    "hour = int(time.strftime('%H'))\n",
    "# print(hour, type(hour))\n",
    "\n",
    "minutes = int(time.strftime('%H'))\n",
    "# print(minutes, type(minutes))\n",
    "\n",
    "seconds = int(time.strftime('%H'))\n",
    "# print(seconds, type(seconds))\n",
    "\n",
    "if(hour>6 and hour<11):\n",
    "    if(minutes>=0 and minutes<=59):\n",
    "        if(seconds>=0 and seconds<=59):\n",
    "            print(\"Good Morning!\")\n",
    "\n",
    "elif(hour>=1 and hour<4):\n",
    "    if(minutes>=0 and minutes<=59):\n",
    "        if(seconds>=0 and seconds<=59):\n",
    "            print(\"It's Noon time!\")\n",
    "\n",
    "else:\n",
    "    print(\"Good Afternoon!\")\n",
    "           "
   ]
  },
  {
   "cell_type": "code",
   "execution_count": null,
   "id": "c3a5950d",
   "metadata": {},
   "outputs": [],
   "source": [
    "name = 'Asik'\n",
    "\n",
    "# for i in name:\n",
    "#     print(i)\n",
    "\n",
    "# for k in range(5):\n",
    "#     print(k)\n",
    "\n",
    "# for k in range(5):\n",
    "#     print(k+1)\n",
    "\n",
    "# for k in range(1,9):\n",
    "#     print(k,end=\" \")\n",
    "# print(\"\\n\")\n",
    "\n",
    "for k in range(1,12,9):\n",
    "    print(k,end=' ')\n",
    "print(\"\\n\")\n",
    "\n",
    "for k in range(1,12,2):\n",
    "    print(k,end=' ')\n",
    "print(\"\\n\")\n"
   ]
  },
  {
   "cell_type": "code",
   "execution_count": null,
   "id": "9ff48d7e",
   "metadata": {},
   "outputs": [],
   "source": [
    "#While and impliment of do While loop\n",
    "count = 5\n",
    "while (count<=10):\n",
    "  print(count)\n",
    "  count = count + 1\n",
    "\n",
    "else:\n",
    "  print(\"You Just left the Loop!\")\n",
    "\n",
    "#For Do WHile Loop: Although it's not exists in python but there is another way to implement it.\n",
    "\n",
    "#Example:\n",
    "\n",
    "while True:\n",
    "  number = int(input(\"Enter a positive number: \"))\n",
    "  print(number)\n",
    "  if not number > 0:\n",
    "    break"
   ]
  },
  {
   "cell_type": "code",
   "execution_count": null,
   "id": "d808a9b8",
   "metadata": {},
   "outputs": [],
   "source": [
    "# break and Continue Statement:\n",
    "\n",
    "for i in range(1,101,1):\n",
    "  if(i%100==0):\n",
    "    break\n",
    "  elif(i%10==0):\n",
    "    continue\n",
    "  else:\n",
    "    print(i,end=\" \")\n",
    "    print(\"Stick\")\n",
    "print(\"Thank you\")"
   ]
  },
  {
   "cell_type": "code",
   "execution_count": null,
   "id": "cc015acd",
   "metadata": {},
   "outputs": [],
   "source": [
    "# Functions in Python:\n",
    "  # def function_name(parameters):\n",
    "\n",
    "def CalculateSum(a,b):\n",
    "  sum = a + b\n",
    "  print(\"Sum =\",sum)\n",
    "\n",
    "def ClaculateSub(a,b):\n",
    "  if(a>b):\n",
    "    sub = a-b\n",
    "    print(\"Subtraction =\",sub)\n",
    "  else:\n",
    "    sub = b-a\n",
    "    print(\"Subtraction =\",sub)\n",
    "\n",
    "def mul(a,b):\n",
    "  mul = a*b\n",
    "  print(\"mul =\",mul)\n",
    "\n",
    "def div(a,b):\n",
    "  if(a>b):\n",
    "    div = a/b\n",
    "    print(\"div =\",div)\n",
    "  else:\n",
    "    div = b/a\n",
    "    print(\"div =\",div) \n",
    "\n",
    "def Modulus(a,b):\n",
    "  pass # pass is used to pass the function. In case if we want to use it later or write the body of the function then we can use pass.\n",
    "\n",
    "a=int(input(\"Enter the first number: \"))\n",
    "b=int(input(\"Enter the second number: \"))\n",
    "CalculateSum(a,b)\n",
    "ClaculateSub(a,b)\n",
    "mul(a,b)\n",
    "div(a,b)"
   ]
  },
  {
   "cell_type": "code",
   "execution_count": null,
   "id": "4ac28a25",
   "metadata": {},
   "outputs": [],
   "source": [
    "# KBC Game:\n",
    "\n",
    "questions = [[\"1.\",\"What is Orange?\",\"A) A Color\",\"B) A Fruit\",'B'], [\"2.\",\"What is Red?\",\"A) A Color\",\"B) Your Blood\",'A'],[\"3.\",\"Who are Your?\",\"A) A Human\",\"B) A Person\",'B'],[\"4.\",\"What is Chad?\",\"A) A moon\",\"B) A small teretory of China\",\"A\"],[\"5.\",\"Sun Give us What?\",\"A) Light\",\"B) Energy\",\"A\"],[\"6.\",\"Why are you Playing This Game?\",\"A) For Fame\",\"B) For Money\",\"B\"]]\n",
    "\n",
    "values = 10\n",
    "win_amount = 0\n",
    "\n",
    "for i in range(len(questions)):\n",
    "    print(questions[i][0], questions[i][1])\n",
    "    print(questions[i][2])\n",
    "    print(questions[i][3])\n",
    "    print(\"C) Quit\")\n",
    "    ans = input(\"Enter Your Answer: \")\n",
    "    if(ans == questions[i][4]):\n",
    "        print(\"Congratulations! Correct Answer.\\n\")\n",
    "        win_amount  = win_amount+values\n",
    "        values = values+10\n",
    "    \n",
    "    elif(ans == \"C\"):\n",
    "        print(\"Thanks! For Participating.\")\n",
    "        break\n",
    "    \n",
    "    else:\n",
    "        print(\"Oh Sorry! Your Answer is wrong.\\n\")\n",
    "        win_amount  = 0\n",
    "        break\n",
    "print(\"Your Winning Amount: \",win_amount)"
   ]
  },
  {
   "cell_type": "code",
   "execution_count": null,
   "id": "fbf2b5ef",
   "metadata": {},
   "outputs": [],
   "source": [
    "theme = \"I am learning {} language for {}\"\n",
    "use = input()\n",
    "language = input()\n",
    "\n",
    "print(theme.format(language,use))\n",
    "\n",
    "# Another Way:-\n",
    "print(f\"I am learning {language} language for {use}\")\n",
    "\n",
    "# to see the variable names:-\n",
    "print(f\"I am learning {{language}} language for {{use}}\")\n"
   ]
  },
  {
   "cell_type": "markdown",
   "id": "b4ccef04",
   "metadata": {},
   "source": [
    "Recursive Function"
   ]
  },
  {
   "cell_type": "code",
   "execution_count": null,
   "id": "66017ce0",
   "metadata": {},
   "outputs": [],
   "source": [
    "# Calculate Factorial:\n",
    "def factorial(n):\n",
    "    if(n==0 or n==1):\n",
    "        return 1\n",
    "    else:\n",
    "        return n*factorial(n-1)\n",
    "\n",
    "a =int(input())\n",
    "    \n",
    "print(\"The factorial of \",a,\" is\",factorial(a))"
   ]
  },
  {
   "cell_type": "code",
   "execution_count": 3,
   "id": "1d9d8801",
   "metadata": {},
   "outputs": [
    {
     "name": "stdout",
     "output_type": "stream",
     "text": [
      "The fibonacchi seris of order  4  is: \n",
      "0 1 1 2 "
     ]
    }
   ],
   "source": [
    "# Calculate Fibonacchi Series:\n",
    "\n",
    "def fibonacchi(n):\n",
    "    if(n==0):\n",
    "        return 0\n",
    "    elif(n==1):\n",
    "        return 1\n",
    "    else:\n",
    "        return fibonacchi(n-1)+fibonacchi(n-2)\n",
    "\n",
    "a =int(input())\n",
    "\n",
    "print(\"The fibonacchi seris of order \",a,\" is: \")\n",
    "for i in range(a):\n",
    "    print(fibonacchi(i),end=' ')"
   ]
  },
  {
   "cell_type": "code",
   "execution_count": 7,
   "id": "ed7e5072",
   "metadata": {},
   "outputs": [
    {
     "name": "stdout",
     "output_type": "stream",
     "text": [
      "<class 'set'>\n",
      "Sun Glass\n",
      "Hand Bag\n",
      "Money Bag\n",
      "White hat\n"
     ]
    }
   ],
   "source": [
    "# Set in Python:-\n",
    "# empty set will be\n",
    "asik = set()\n",
    "print(type(asik))\n",
    "\n",
    "item = {\"Money Bag\",\"Hand Bag\",\"Sun Glass\",\"White hat\"} #The values of a set will alaws be unordered\n",
    "\n",
    "for i in item:\n",
    "    print(i)"
   ]
  },
  {
   "cell_type": "code",
   "execution_count": 25,
   "id": "414ee7a2",
   "metadata": {},
   "outputs": [
    {
     "name": "stdout",
     "output_type": "stream",
     "text": [
      "Encoded Message: oG\n",
      "Decoded Message: Go\n"
     ]
    }
   ],
   "source": [
    "# Encoding and Decoding and decoding chat using python:-\n",
    "\n",
    "i= 0\n",
    "while True:\n",
    "    if(i>0):\n",
    "        ans = input(\"You want to continue or not: Yes for continue else No: \")\n",
    "        if(ans =='NO' or ans =='no' or ans =='No' or ans =='nO'):\n",
    "            break\n",
    "        \n",
    "    ref = input(\"You want to Enocde or Decode: \")\n",
    "    me = input(\"Enter The message: \")\n",
    "    i=i+1\n",
    "    \n",
    "\n",
    "    if(ref == 'Encode'):\n",
    "        if(len(me)>=3):\n",
    "            message = me\n",
    "            message = me[1:len(me)]\n",
    "            first_one = me[0]\n",
    "            print(f\"Encoded Message: abc{message}{first_one}obd\")\n",
    "        else:\n",
    "            message = me\n",
    "            # message = ''.join(reversed(message)) or you can use\n",
    "            message = me[::-1]\n",
    "            print(f\"Encoded Message: {message}\")\n",
    "            \n",
    "    else:\n",
    "        if(len(me)>=3):\n",
    "            message = me\n",
    "            message = me[3:-4]\n",
    "            first_one = me[-4]\n",
    "            print(f\"Decoded Message: {first_one}{message}\")\n",
    "        else:\n",
    "            message = me\n",
    "            message = ''.join(reversed(message)) #or you can use\n",
    "            # message = me[::-1]\n",
    "            print(f\"Decoded Message: {message}\")\n"
   ]
  },
  {
   "cell_type": "code",
   "execution_count": null,
   "id": "5a412102",
   "metadata": {},
   "outputs": [],
   "source": [
    "marks = [98,78,88,95,68,45,22,35,72,41]\n",
    "print(sorted(marks))\n",
    "marks2 = marks.copy()\n",
    "marks2.sort(reverse=True)\n",
    "print(marks2)\n",
    "\n",
    "for index,mark in enumerate(marks,1): # if we  did't placed 1 inside of that enumearate function then the index would have start from 0 \n",
    "    print(mark)\n",
    "    if(mark ==  98):\n",
    "        print(\"Congratulations! You scored highest mark in the class. Your Precious class roll was: \",index)"
   ]
  },
  {
   "cell_type": "code",
   "execution_count": 4,
   "id": "d96da1ad",
   "metadata": {},
   "outputs": [
    {
     "name": "stdout",
     "output_type": "stream",
     "text": [
      "13\n"
     ]
    }
   ],
   "source": [
    "meal = float(input())\n",
    "tip_percent = int(input())\n",
    "tax_percent = int(input())\n",
    "\n",
    "tip = meal*tip_percent/100\n",
    "tax = meal*tax_percent/100\n",
    "\n",
    "total = meal+tip+tax\n",
    "decimal = int((total*100)%100)\n",
    "if(decimal >=50):\n",
    "    total = int(total)\n",
    "    print(total+1)\n",
    "else:\n",
    "    total = int(total)\n",
    "    print(total)"
   ]
  },
  {
   "cell_type": "code",
   "execution_count": 7,
   "id": "08b1a6d0",
   "metadata": {},
   "outputs": [
    {
     "name": "stdout",
     "output_type": "stream",
     "text": [
      "50\n",
      "125\n",
      "5.0\n",
      "135\n"
     ]
    }
   ],
   "source": [
    "#  Lamda Function\n",
    "\n",
    "double = lambda x: x*5\n",
    "cube = lambda x: x**3\n",
    "avg = lambda x,y,z : (x+y+z)/3\n",
    "\n",
    "def apply_function_under_function(fx,value):\n",
    "    return 10 + fx(value)\n",
    "\n",
    "print(double(10))\n",
    "print(cube(5))\n",
    "print(avg(5,6,4))\n",
    "print(apply_function_under_function(cube,5))"
   ]
  },
  {
   "cell_type": "code",
   "execution_count": null,
   "id": "774b1f6d",
   "metadata": {},
   "outputs": [],
   "source": [
    "# Map, Filter Function\n",
    "\n",
    "l = [10,7,11,3,9,12,17]\n",
    "\n",
    "new_l = list(map(lambda x: x*x*x,l))\n",
    "print(l)\n",
    "print(new_l)\n",
    "\n",
    "# Filter\n",
    "\n",
    "def filter_function(a):\n",
    "    return a>10\n",
    "\n",
    "new_l2 = list(filter(filter_function,l))\n",
    "print(new_l2)"
   ]
  },
  {
   "cell_type": "code",
   "execution_count": 3,
   "id": "e1d6fa9c",
   "metadata": {},
   "outputs": [
    {
     "name": "stdout",
     "output_type": "stream",
     "text": [
      "69\n"
     ]
    }
   ],
   "source": [
    "# Reduce Function\n",
    "# usually used to calculate sum, subtraction or multiplication \n",
    "# etc.\n",
    "from functools import reduce\n",
    "\n",
    "l = [10,7,11,3,9,12,17]\n",
    "\n",
    "sum  = reduce(lambda x,y:x+y,l)\n",
    "print(sum)"
   ]
  },
  {
   "cell_type": "code",
   "execution_count": 12,
   "id": "f61c4c57",
   "metadata": {},
   "outputs": [
    {
     "name": "stdout",
     "output_type": "stream",
     "text": [
      "False\n",
      "False\n"
     ]
    }
   ],
   "source": [
    "#  Difference between is and ==\n",
    "\n",
    "# a = 3\n",
    "# b = 3\n",
    "\n",
    "# print(a is b) # exact location of the object in the memory\n",
    "# print(a == b) # compare Value\n",
    "\n",
    "# c = [7,3,5,2]\n",
    "# d = [7,3,5,2]\n",
    "\n",
    "# print(c is d) # exact location of the object in the memory\n",
    "# print(c == d) # compare Value\n",
    "\n",
    "# in case of touple\n",
    "# e = (1,2)\n",
    "# f = (1,2)\n",
    "\n",
    "# print(e is f) # exact location of the object in the memory\n",
    "# print(e == f) # compare Value\n",
    "\n",
    "# a = None\n",
    "# b = None\n",
    "\n",
    "# print(a is b)\n",
    "# print(a is None)\n",
    "# print(a == b)\n",
    "\n",
    "a = 3\n",
    "b = '3'\n",
    "\n",
    "print(a is b)\n",
    "print(a == b)"
   ]
  }
 ],
 "metadata": {
  "kernelspec": {
   "display_name": "Python 3 (ipykernel)",
   "language": "python",
   "name": "python3"
  },
  "language_info": {
   "codemirror_mode": {
    "name": "ipython",
    "version": 3
   },
   "file_extension": ".py",
   "mimetype": "text/x-python",
   "name": "python",
   "nbconvert_exporter": "python",
   "pygments_lexer": "ipython3",
   "version": "3.12.1"
  }
 },
 "nbformat": 4,
 "nbformat_minor": 5
}
